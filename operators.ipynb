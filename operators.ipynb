{
 "cells": [
  {
   "cell_type": "code",
   "execution_count": 1,
   "id": "a6fbc8a5",
   "metadata": {},
   "outputs": [
    {
     "name": "stdout",
     "output_type": "stream",
     "text": [
      "my age is 32\n"
     ]
    }
   ],
   "source": [
    "# Task 1: Declaring age as an integer variable\n",
    "age=32\n",
    "print('my age is', age)"
   ]
  },
  {
   "cell_type": "code",
   "execution_count": 2,
   "id": "ea709cd7",
   "metadata": {},
   "outputs": [
    {
     "name": "stdout",
     "output_type": "stream",
     "text": [
      "my height is 1.75 meters\n"
     ]
    }
   ],
   "source": [
    "# Task 2: Declaring height as a float variable \n",
    "height=1.75\n",
    "print('my height is', height, 'meters')"
   ]
  },
  {
   "cell_type": "code",
   "execution_count": 3,
   "id": "6a7da6f5",
   "metadata": {},
   "outputs": [
    {
     "name": "stdout",
     "output_type": "stream",
     "text": [
      "(4+3j) is a complex number\n"
     ]
    }
   ],
   "source": [
    "# Task 3: Declaring variable that stores a complex number\n",
    "complex_number=4+3j\n",
    "print(complex_number, 'is a complex number')"
   ]
  },
  {
   "cell_type": "code",
   "execution_count": 1,
   "id": "5d9c907a",
   "metadata": {},
   "outputs": [
    {
     "name": "stdout",
     "output_type": "stream",
     "text": [
      "Enter base:20\n",
      "Enter height:10\n",
      "The area of the triangle is 100.0\n"
     ]
    }
   ],
   "source": [
    "# Task 4: Script to calculatethe area of a triangle\n",
    "caculate the area of a triangle\n",
    "#prompt the user to input\n",
    "base=float(input('Enter base:'))\n",
    "height=float(input('Enter height:'))\n",
    "#calculate the area\n",
    "area=0.5*base*height\n",
    "print('The area of the triangle is', area,)"
   ]
  },
  {
   "cell_type": "code",
   "execution_count": 6,
   "id": "4d588c80",
   "metadata": {},
   "outputs": [
    {
     "name": "stdout",
     "output_type": "stream",
     "text": [
      "Enter side a: 5\n",
      "Enter side b: 4\n",
      "Enter side c: 3\n",
      "The perimeter of the triangle is 12.0\n"
     ]
    }
   ],
   "source": [
    "# Task 5: calculate the perimeter of a triangle\n",
    "#prompt the user to input\n",
    "side_a=float(input('Enter side a: '))\n",
    "side_b=float(input('Enter side b: '))\n",
    "side_c=float(input('Enter side c: '))\n",
    "# calculate the perimeter\n",
    "perimeter=side_a+side_b+side_c\n",
    "print('The perimeter of the triangle is', perimeter)"
   ]
  },
  {
   "cell_type": "code",
   "execution_count": 1,
   "id": "7e714830",
   "metadata": {},
   "outputs": [
    {
     "name": "stdout",
     "output_type": "stream",
     "text": [
      "Enter lenght of the rectangle:6\n",
      "Enter width of the triangle:4\n",
      "The area of the rectangle is 24.0\n",
      "The perimeter of the triangle is 20.0\n"
     ]
    }
   ],
   "source": [
    "# Task 6::calculate area and perimeter of a rectangle\n",
    "#prompt the user to input\n",
    "lenght=float(input('Enter lenght of the rectangle:'))\n",
    "width=float(input('Enter width of the triangle:'))\n",
    "\n",
    "# calculate area and perimeter\n",
    "area=lenght*width\n",
    "perimeter=2*(lenght+width)\n",
    "\n",
    "#print the results\n",
    "print('The area of the rectangle is', area)\n",
    "print('The perimeter of the triangle is', perimeter)"
   ]
  },
  {
   "cell_type": "code",
   "execution_count": 1,
   "id": "29685de5",
   "metadata": {},
   "outputs": [
    {
     "name": "stdout",
     "output_type": "stream",
     "text": [
      "Enter radius of the circle:3\n",
      "The area of the circle is: 28.274333882308138\n",
      "The circumference of the circle is: 18.84955592153876\n"
     ]
    }
   ],
   "source": [
    "# task 7: calculate area and circumference of a circle\n",
    "import math\n",
    "#prompt the user for input\n",
    "radius=float(input('Enter radius of the circle:'))\n",
    "area=math.pi*radius**2\n",
    "circumference=2*math.pi*radius\n",
    "\n",
    "#print the results\n",
    "print('The area of the circle is:',area)\n",
    "print('The circumference of the circle is:',circumference)\n",
    " \n"
   ]
  },
  {
   "cell_type": "code",
   "execution_count": 3,
   "id": "9b2eccab",
   "metadata": {},
   "outputs": [
    {
     "name": "stdout",
     "output_type": "stream",
     "text": [
      "slope: 2\n",
      "y_intercept: -2\n",
      "x-intercept: 1.0\n"
     ]
    }
   ],
   "source": [
    "# Task 8: calculate slope, X-intercept and y-intercept of y=2x-2\n",
    "slope=2\n",
    "y_intercept=-2\n",
    "x_intercept= -y_intercept/slope\n",
    "print('slope:',slope)\n",
    "print('y_intercept:',y_intercept)\n",
    "print('x-intercept:' ,x_intercept)\n"
   ]
  },
  {
   "cell_type": "code",
   "execution_count": 6,
   "id": "d3840d81",
   "metadata": {},
   "outputs": [
    {
     "name": "stdout",
     "output_type": "stream",
     "text": [
      "slope: 2.0\n",
      "Euclidean distance: 8.94427190999916\n"
     ]
    }
   ],
   "source": [
    "# Task9: slope and Euclidean distance between two points\n",
    "#define the points\n",
    "x1, y1 =2,2\n",
    "x2, y2 =6,10\n",
    "\n",
    "#calculate slope\n",
    "slope= (y2-y1)/(x2-x1)\n",
    "#calculate Euclidean distance\n",
    "distance = math.sqrt((x2-x1)**2+(y2-y1)**2)\n",
    "print('slope:', slope)\n",
    "print('Euclidean distance:', distance)"
   ]
  },
  {
   "cell_type": "code",
   "execution_count": 2,
   "id": "164e8936",
   "metadata": {},
   "outputs": [
    {
     "name": "stdout",
     "output_type": "stream",
     "text": [
      "slope from task 8: 2\n",
      "slope from task 9: 2.0\n"
     ]
    },
    {
     "data": {
      "text/plain": [
       "True"
      ]
     },
     "execution_count": 2,
     "metadata": {},
     "output_type": "execute_result"
    }
   ],
   "source": [
    "# Task 10: compare slopes from task 8 and 9\n",
    "slope_task8=2 #from task 8\n",
    "slope_task9=(10-2)/(6-2)\n",
    "print('slope from task 8:',slope_task8 )\n",
    "print('slope from task 9:',slope_task9)\n",
    "slope_task8==slope_task9\n",
    "\n"
   ]
  },
  {
   "cell_type": "code",
   "execution_count": 29,
   "id": "6c0958e3",
   "metadata": {},
   "outputs": [
    {
     "name": "stdout",
     "output_type": "stream",
     "text": [
      "when x = -5 y= 4\n",
      "when x = -4 y= 1\n",
      "when x = -3 y= 0\n",
      "when x = -2 y= 1\n",
      "when x = -1 y= 4\n",
      "when x = 0 y= 9\n",
      "when x = 1 y= 16\n",
      "when x = 2 y= 25\n",
      "when x = 3 y= 36\n",
      "when x = 4 y= 49\n",
      "when x = 5 y= 64\n",
      "Y is 0 when x=-3\n"
     ]
    }
   ],
   "source": [
    "# Task 11: calculate y=x**2+6*x+9 for different x values\n",
    "def calculate_y(x):\n",
    "    return x**2+6*x+9\n",
    "# Testing for different x values\n",
    "for x in range(-5,6):\n",
    "    y= calculate_y(x)\n",
    "    print('when x =',x, 'y=',y)\n",
    "      #find x when y is 0 (solve for y=x**2+6*x+9=0)\n",
    "      #The solution is x=-3twice\n",
    "print('Y is 0 when x=-3')"
   ]
  },
  {
   "cell_type": "code",
   "execution_count": 35,
   "id": "7ae0be73",
   "metadata": {},
   "outputs": [
    {
     "name": "stdout",
     "output_type": "stream",
     "text": [
      "lenght of python is 6\n",
      "lenght of dragon is 6\n",
      "lengh of python and dragon are not equal: False\n"
     ]
    }
   ],
   "source": [
    "# Task 12: Compare lenghts of 'Drago' and 'python'\n",
    "len_python=len('python')\n",
    "len_dragon=len('dragon')\n",
    "print('lenght of python is',len_python)\n",
    "print('lenght of dragon is',len_dragon)\n",
    "print('lengh of python and dragon are not equal:', len_python!=len_dragon)"
   ]
  },
  {
   "cell_type": "code",
   "execution_count": 36,
   "id": "f9921a76",
   "metadata": {},
   "outputs": [
    {
     "name": "stdout",
     "output_type": "stream",
     "text": [
      "True\n"
     ]
    }
   ],
   "source": [
    "#Task 13: check if 'on' is in both 'python' and 'dragon'\n",
    "print('on' in 'python' and 'on' in 'dragon')"
   ]
  },
  {
   "cell_type": "code",
   "execution_count": 37,
   "id": "1e66b21b",
   "metadata": {},
   "outputs": [
    {
     "name": "stdout",
     "output_type": "stream",
     "text": [
      "True\n"
     ]
    }
   ],
   "source": [
    "# Task 14: check if jargon in the sentence\n",
    "sentence='i hope this course is not full of jargon'\n",
    "print('jargon' in sentence)"
   ]
  },
  {
   "cell_type": "code",
   "execution_count": 39,
   "id": "bcb22840",
   "metadata": {},
   "outputs": [
    {
     "name": "stdout",
     "output_type": "stream",
     "text": [
      "False\n"
     ]
    }
   ],
   "source": [
    "# Task 15: check if 'on' is not in both 'python' and 'dragon'\n",
    "print ('on' not in 'dragon' and 'on' not in 'python')"
   ]
  },
  {
   "cell_type": "code",
   "execution_count": 42,
   "id": "05f484d6",
   "metadata": {},
   "outputs": [
    {
     "name": "stdout",
     "output_type": "stream",
     "text": [
      "original lenght of python is 6\n",
      "As float: 6.0\n",
      "As string: 6.0\n"
     ]
    }
   ],
   "source": [
    "# Task 16: convert lenght of 'python' to float and then to string\n",
    "lenght =len('python')\n",
    "float_lenght=float(lenght)\n",
    "str_lenght=str(float_lenght)\n",
    "print('original lenght of python is',lenght)\n",
    "print('As float:',float_lenght)\n",
    "print('As string:', str_lenght)"
   ]
  },
  {
   "cell_type": "code",
   "execution_count": 43,
   "id": "f3971470",
   "metadata": {},
   "outputs": [
    {
     "name": "stdout",
     "output_type": "stream",
     "text": [
      "True\n",
      "False\n",
      "False\n",
      "True\n"
     ]
    }
   ],
   "source": [
    "# Task 17: check if a number is even\n",
    "def is_even(number):\n",
    "    return number % 2==0\n",
    "#Test the function\n",
    "print(is_even(4)) #true\n",
    "print(is_even(7)) #false\n",
    "\n",
    "print(is_even(9)) #false\n",
    "print(is_even(10)) #true"
   ]
  },
  {
   "cell_type": "code",
   "execution_count": 14,
   "id": "36f076ef",
   "metadata": {},
   "outputs": [
    {
     "name": "stdout",
     "output_type": "stream",
     "text": [
      "False\n"
     ]
    }
   ],
   "source": [
    "# Task 18: Compare floor division with int conversion\n",
    "compare_floor_div_and_int=7//3==int(2.7)\n",
    "print(compare_floor_div_and_int)\n",
    "#(7//3==int(2.7))"
   ]
  },
  {
   "cell_type": "code",
   "execution_count": 15,
   "id": "2f54f552",
   "metadata": {},
   "outputs": [
    {
     "name": "stdout",
     "output_type": "stream",
     "text": [
      "False\n"
     ]
    }
   ],
   "source": [
    "# Task 19: Compare types of '10' and 10\n",
    "print(type('10')==type(10))"
   ]
  },
  {
   "cell_type": "code",
   "execution_count": 29,
   "id": "d85e9f72",
   "metadata": {},
   "outputs": [
    {
     "name": "stdout",
     "output_type": "stream",
     "text": [
      "cannot convert 9.8 directly to int. we could use float first\n",
      "0\n"
     ]
    }
   ],
   "source": [
    "# Task 20: Compare int('9.8') with 10\n",
    "#print (int('9.8')==10)\n",
    "print ('cannot convert', '9.8', 'directly to int. we could use float first')\n",
    "print (int(float('9.8')==10))"
   ]
  },
  {
   "cell_type": "code",
   "execution_count": 31,
   "id": "021ee08c",
   "metadata": {},
   "outputs": [
    {
     "name": "stdout",
     "output_type": "stream",
     "text": [
      "Enter hours:40\n",
      "Enter rate per hour:28\n",
      "your weekly earning is 1120.0\n"
     ]
    }
   ],
   "source": [
    "# Task 21: calculate weekly earnings\n",
    "hours=float(input('Enter hours:'))\n",
    "rate=float(input('Enter rate per hour:'))\n",
    "weekly_earning=hours*rate\n",
    "print('your weekly earning is', weekly_earning)"
   ]
  },
  {
   "cell_type": "code",
   "execution_count": 32,
   "id": "40017640",
   "metadata": {},
   "outputs": [
    {
     "name": "stdout",
     "output_type": "stream",
     "text": [
      "Enter number of years you have lived:100\n",
      "you have lived for 3153600000 seconds:\n"
     ]
    }
   ],
   "source": [
    "# Task 22: calculate seconds lived\n",
    "years=int(input('Enter number of years you have lived:'))\n",
    "seconds=years*365*24*60*60\n",
    "print('you have lived for', seconds, 'seconds:')\n"
   ]
  },
  {
   "cell_type": "code",
   "execution_count": 74,
   "id": "7dedfd86",
   "metadata": {},
   "outputs": [
    {
     "name": "stdout",
     "output_type": "stream",
     "text": [
      "1 1 1 1 1\n",
      "2 1 2 4 8\n",
      "3 1 1 9 27\n",
      "4 1 4 16 64\n",
      "5 1 5 25 125\n"
     ]
    }
   ],
   "source": [
    "# Task 23: Generate a table\n",
    "def generate_table():\n",
    "   # for i in range(1, 3):\n",
    "     rows=[\n",
    "       [1,1,1,1,1],\n",
    "       [2,1,2,4,8], \n",
    "       [3,1,1,9,27],\n",
    "       [4,1,4,16,64],\n",
    "       [5,1,5,25,125],]\n",
    "     for rows in rows:\n",
    "      print(' '.join(map(str, rows)))\n",
    "generate_table()"
   ]
  }
 ],
 "metadata": {
  "kernelspec": {
   "display_name": "Python 3 (ipykernel)",
   "language": "python",
   "name": "python3"
  },
  "language_info": {
   "codemirror_mode": {
    "name": "ipython",
    "version": 3
   },
   "file_extension": ".py",
   "mimetype": "text/x-python",
   "name": "python",
   "nbconvert_exporter": "python",
   "pygments_lexer": "ipython3",
   "version": "3.9.12"
  }
 },
 "nbformat": 4,
 "nbformat_minor": 5
}
