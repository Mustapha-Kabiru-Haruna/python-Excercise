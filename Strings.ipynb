{
 "cells": [
  {
   "cell_type": "code",
   "execution_count": 2,
   "id": "97abb683",
   "metadata": {},
   "outputs": [
    {
     "name": "stdout",
     "output_type": "stream",
     "text": [
      "Thirty Days of Phyton\n"
     ]
    }
   ],
   "source": [
    "# Task 1:concatenation of 'Thirty', 'Days', 'of', 'python', to a single string.\n",
    "string1 = \"Thirty\"\n",
    "string2 = \"Days\"\n",
    "string3 = \"of\"\n",
    "string4 = \"Phyton\"\n",
    "concatenated_string1 = string1+\" \"+string2+\" \"+string3+\" \"+string4\n",
    "print(concatenated_string1)"
   ]
  },
  {
   "cell_type": "code",
   "execution_count": 3,
   "id": "57005070",
   "metadata": {},
   "outputs": [
    {
     "name": "stdout",
     "output_type": "stream",
     "text": [
      "Coding For All\n"
     ]
    }
   ],
   "source": [
    "# Task 2: concatenation of 'coding', 'for', 'All' to a single string.\n",
    "string5 = \"Coding\"\n",
    "string6 = \"For\"\n",
    "string7 = \"All\"\n",
    "concatenated_string2 = string5+\" \"+string6+\" \"+string7\n",
    "print (concatenated_string2)"
   ]
  },
  {
   "cell_type": "code",
   "execution_count": 4,
   "id": "e16ce00b",
   "metadata": {},
   "outputs": [],
   "source": [
    "# Task 3: Declaration of a variable named company\n",
    "company = \"Coding For All\""
   ]
  },
  {
   "cell_type": "code",
   "execution_count": 5,
   "id": "c43622a4",
   "metadata": {},
   "outputs": [
    {
     "name": "stdout",
     "output_type": "stream",
     "text": [
      "Coding For All\n"
     ]
    }
   ],
   "source": [
    "# Task 4: output of the declared variable in Task 3\n",
    "print(company)"
   ]
  },
  {
   "cell_type": "code",
   "execution_count": 6,
   "id": "e89ae34c",
   "metadata": {},
   "outputs": [
    {
     "name": "stdout",
     "output_type": "stream",
     "text": [
      "14\n"
     ]
    }
   ],
   "source": [
    "# Task 5: output of the variable lenght\n",
    "print(len(company))\n"
   ]
  },
  {
   "cell_type": "code",
   "execution_count": 8,
   "id": "df418f70",
   "metadata": {},
   "outputs": [
    {
     "name": "stdout",
     "output_type": "stream",
     "text": [
      "CODING FOR ALL\n"
     ]
    }
   ],
   "source": [
    "# Task 6: changing all the characters to uppercase letters using 'upper()' method\n",
    "print (company.upper())"
   ]
  },
  {
   "cell_type": "code",
   "execution_count": 9,
   "id": "2de4cba1",
   "metadata": {},
   "outputs": [
    {
     "name": "stdout",
     "output_type": "stream",
     "text": [
      "coding for all\n"
     ]
    }
   ],
   "source": [
    "# Task 7: changing all the characters to lowercase using 'lower()' method\n",
    "print(company.lower())"
   ]
  },
  {
   "cell_type": "code",
   "execution_count": 14,
   "id": "90a59cc3",
   "metadata": {},
   "outputs": [
    {
     "name": "stdout",
     "output_type": "stream",
     "text": [
      "Coding for all\n",
      "Coding For All\n",
      "cODING fOR aLL\n"
     ]
    }
   ],
   "source": [
    "# Task 8: string formatting using 'capitalize()', 'title()'  and  'swapcase()' methods\n",
    "print(company.capitalize())\n",
    "print(company.title())\n",
    "print(company.swapcase())"
   ]
  },
  {
   "cell_type": "code",
   "execution_count": 15,
   "id": "df446a38",
   "metadata": {},
   "outputs": [
    {
     "name": "stdout",
     "output_type": "stream",
     "text": [
      "For All\n"
     ]
    }
   ],
   "source": [
    "# Task 9: string slicing\n",
    "print(company[7:])"
   ]
  },
  {
   "cell_type": "code",
   "execution_count": 7,
   "id": "f9db2d11",
   "metadata": {},
   "outputs": [
    {
     "name": "stdout",
     "output_type": "stream",
     "text": [
      "True\n"
     ]
    }
   ],
   "source": [
    "# Task 10: checking the word coding in the string\n",
    "company = \"Coding For All\"\n",
    "print(\"Coding\" in company)"
   ]
  },
  {
   "cell_type": "code",
   "execution_count": 45,
   "id": "b1824969",
   "metadata": {},
   "outputs": [
    {
     "name": "stdout",
     "output_type": "stream",
     "text": [
      "python For All\n"
     ]
    }
   ],
   "source": [
    "# Task 11: replacing 'coding' with 'python' in the string.\n",
    "company_replaced =company.replace(\"Coding\",\"python\")\n",
    "print(company_replaced)"
   ]
  },
  {
   "cell_type": "code",
   "execution_count": 48,
   "id": "c8418691",
   "metadata": {},
   "outputs": [
    {
     "name": "stdout",
     "output_type": "stream",
     "text": [
      "python for All\n"
     ]
    }
   ],
   "source": [
    "# Task 12: replacing 'Everyone' with 'All'\n",
    "phrase = \"python for Everyone\"\n",
    "new_phrase = phrase.replace(\"Everyone\",\"All\")\n",
    "print(new_phrase)"
   ]
  },
  {
   "cell_type": "code",
   "execution_count": 50,
   "id": "51733b60",
   "metadata": {},
   "outputs": [
    {
     "name": "stdout",
     "output_type": "stream",
     "text": [
      "['Coding', 'For', 'All']\n"
     ]
    }
   ],
   "source": [
    "# Task 13: string splitting using (split())\n",
    "split_company = company.split(\" \")\n",
    "print(split_company)"
   ]
  },
  {
   "cell_type": "code",
   "execution_count": 60,
   "id": "a6f57285",
   "metadata": {},
   "outputs": [
    {
     "name": "stdout",
     "output_type": "stream",
     "text": [
      "['Facebook,', 'Google,', 'Microsoft,', 'Apple,', 'IBM,', 'Oracle,', 'Amazon']\n"
     ]
    }
   ],
   "source": [
    "# Task 14:\n",
    "tech_companies = \"Facebook, Google, Microsoft, Apple, IBM, Oracle, Amazon\"\n",
    "split_companies = tech_companies.split(\" \")\n",
    "print(split_companies)"
   ]
  },
  {
   "cell_type": "code",
   "execution_count": 70,
   "id": "932d19f0",
   "metadata": {},
   "outputs": [
    {
     "name": "stdout",
     "output_type": "stream",
     "text": [
      "C\n"
     ]
    }
   ],
   "source": [
    "# Task 15: finding first character using index\n",
    "print(company[0])"
   ]
  },
  {
   "cell_type": "code",
   "execution_count": 8,
   "id": "aa890751",
   "metadata": {},
   "outputs": [
    {
     "name": "stdout",
     "output_type": "stream",
     "text": [
      "14\n"
     ]
    }
   ],
   "source": [
    "# Task 16: finding last index\n",
    "print (len(company))"
   ]
  },
  {
   "cell_type": "code",
   "execution_count": 8,
   "id": "8e4e0f17",
   "metadata": {},
   "outputs": [
    {
     "name": "stdout",
     "output_type": "stream",
     "text": [
      " \n"
     ]
    }
   ],
   "source": [
    "# Task 17: finding the character at index 10 \n",
    "#company = \"Coding For All\"\n",
    "print(company[10])\n",
    "#print(\"The character at index 10 is a space\")"
   ]
  },
  {
   "cell_type": "code",
   "execution_count": 83,
   "id": "98be3180",
   "metadata": {},
   "outputs": [
    {
     "name": "stdout",
     "output_type": "stream",
     "text": [
      "P F E\n"
     ]
    }
   ],
   "source": [
    "# Task 18: acronym for python For Everyone\n",
    "phrase =\"Python For Everyone\"\n",
    "acronym = ' '.join([word[0] for word in phrase.split()])\n",
    "print(acronym)"
   ]
  },
  {
   "cell_type": "code",
   "execution_count": 85,
   "id": "92a7b680",
   "metadata": {},
   "outputs": [
    {
     "name": "stdout",
     "output_type": "stream",
     "text": [
      "C F A\n"
     ]
    }
   ],
   "source": [
    "# Task 19: acronym for Coding For ALL\n",
    "acronym2 = ' '.join([word[0]for word in company.split()])\n",
    "print(acronym2)"
   ]
  },
  {
   "cell_type": "code",
   "execution_count": 27,
   "id": "d56a6b81",
   "metadata": {},
   "outputs": [
    {
     "name": "stdout",
     "output_type": "stream",
     "text": [
      "0\n"
     ]
    }
   ],
   "source": [
    "# Task 20: Finding the position of first occurence of 'c'\n",
    "find_c = company.find('C')\n",
    "print(find_c)"
   ]
  },
  {
   "cell_type": "code",
   "execution_count": 28,
   "id": "4ee5a9ba",
   "metadata": {},
   "outputs": [
    {
     "name": "stdout",
     "output_type": "stream",
     "text": [
      "7\n"
     ]
    }
   ],
   "source": [
    "# Task 21: position of the first occurence of f\n",
    "print(company.index('F'))"
   ]
  },
  {
   "cell_type": "code",
   "execution_count": 9,
   "id": "8437a6cb",
   "metadata": {},
   "outputs": [
    {
     "name": "stdout",
     "output_type": "stream",
     "text": [
      "-1\n"
     ]
    }
   ],
   "source": [
    "# Task 22: using rfind to determine the last position of '1'\n",
    "company_extended = \"Coding For All People\"\n",
    "print(company_extended.find('1'))"
   ]
  },
  {
   "cell_type": "code",
   "execution_count": 42,
   "id": "215e9291",
   "metadata": {},
   "outputs": [
    {
     "name": "stdout",
     "output_type": "stream",
     "text": [
      "31\n"
     ]
    }
   ],
   "source": [
    "# Task 23: using 'index' or 'find' to find the position of the first occurence of because\n",
    "sentence = 'you cannot end a sentence with because because because is a conjunction'\n",
    "print(sentence.find('because'))"
   ]
  },
  {
   "cell_type": "code",
   "execution_count": 43,
   "id": "a4f5a889",
   "metadata": {},
   "outputs": [
    {
     "name": "stdout",
     "output_type": "stream",
     "text": [
      "47\n"
     ]
    }
   ],
   "source": [
    "# Task 24: using rindex to find the last position of occurence of because\n",
    "print(sentence.rindex('because'))\n"
   ]
  },
  {
   "cell_type": "code",
   "execution_count": 46,
   "id": "b6d65be4",
   "metadata": {},
   "outputs": [
    {
     "name": "stdout",
     "output_type": "stream",
     "text": [
      "because because because\n"
     ]
    }
   ],
   "source": [
    "# Task 25: slicing out the phrase 'because because because'\n",
    "start = sentence.find('because')\n",
    "end = sentence.rindex('because') + len('because')\n",
    "print (sentence[start:end])"
   ]
  },
  {
   "cell_type": "code",
   "execution_count": 47,
   "id": "594482a4",
   "metadata": {},
   "outputs": [
    {
     "name": "stdout",
     "output_type": "stream",
     "text": [
      "31\n"
     ]
    }
   ],
   "source": [
    "# Task 26: position of the first occurence of because\n",
    "print (sentence.find('because'))"
   ]
  },
  {
   "cell_type": "code",
   "execution_count": 48,
   "id": "4838abf9",
   "metadata": {},
   "outputs": [
    {
     "name": "stdout",
     "output_type": "stream",
     "text": [
      "because because because\n"
     ]
    }
   ],
   "source": [
    "# Task 27: slicing out the phrase 'because because because'\n",
    "print(sentence[start:end])"
   ]
  },
  {
   "cell_type": "code",
   "execution_count": 53,
   "id": "459b517d",
   "metadata": {},
   "outputs": [
    {
     "name": "stdout",
     "output_type": "stream",
     "text": [
      "True\n"
     ]
    }
   ],
   "source": [
    "# Task 28: checking if the sentence start with substring 'Coding'\n",
    "print(company.startswith('Coding'))"
   ]
  },
  {
   "cell_type": "code",
   "execution_count": 54,
   "id": "5e2d1b64",
   "metadata": {},
   "outputs": [
    {
     "name": "stdout",
     "output_type": "stream",
     "text": [
      "False\n"
     ]
    }
   ],
   "source": [
    "# Task 29: checking if the sentence end with  substring 'coding'\n",
    "print(company.endswith('coding'))"
   ]
  },
  {
   "cell_type": "code",
   "execution_count": 57,
   "id": "f39e8d35",
   "metadata": {},
   "outputs": [
    {
     "name": "stdout",
     "output_type": "stream",
     "text": [
      "Coding For All\n"
     ]
    }
   ],
   "source": [
    "# Task 30: removing the left and right trailing space\n",
    "company_with_spaces = \"    Coding For All     \"\n",
    "print(company_with_spaces.strip())"
   ]
  },
  {
   "cell_type": "code",
   "execution_count": 58,
   "id": "8dba2fd6",
   "metadata": {},
   "outputs": [
    {
     "name": "stdout",
     "output_type": "stream",
     "text": [
      "False\n",
      "True\n"
     ]
    }
   ],
   "source": [
    "# Task 31: checking if variables are valid identifiers\n",
    "print('30daysofphyton'.isidentifier())\n",
    "print('thirty_days_of_phyton'.isidentifier())"
   ]
  },
  {
   "cell_type": "code",
   "execution_count": 64,
   "id": "1e4669f9",
   "metadata": {},
   "outputs": [
    {
     "name": "stdout",
     "output_type": "stream",
     "text": [
      "Django #  Fask #  Bottle #  pyramid #  Falcon\n"
     ]
    }
   ],
   "source": [
    "# Task 32: joining python libraries with a harsh and space string\n",
    "phyton_libraries = ['Django','Fask','Bottle','pyramid','Falcon']\n",
    "joined_libraries = ' #  '.join(phyton_libraries)\n",
    "print(joined_libraries)"
   ]
  },
  {
   "cell_type": "code",
   "execution_count": 67,
   "id": "500cf139",
   "metadata": {},
   "outputs": [
    {
     "name": "stdout",
     "output_type": "stream",
     "text": [
      "I am enjoying this challenge.\n",
      "I just wonder what is next.\n"
     ]
    }
   ],
   "source": [
    "# Task 33: using 'new line escape sequence' to separate sentences\n",
    "print (\"I am enjoying this challenge.\\nI just wonder what is next.\")"
   ]
  },
  {
   "cell_type": "code",
   "execution_count": 72,
   "id": "91870f71",
   "metadata": {},
   "outputs": [
    {
     "name": "stdout",
     "output_type": "stream",
     "text": [
      "Name \t\t Age\t Country\t City\n",
      "Asabeneh \t 250 \t Finland \t Helsinki\n"
     ]
    }
   ],
   "source": [
    "# Task 34: line formatting using 'tab escape sequence'\n",
    "print(\"Name \\t\\t Age\\t Country\\t City\")\n",
    "print(\"Asabeneh \\t 250 \\t Finland \\t Helsinki\")"
   ]
  },
  {
   "cell_type": "code",
   "execution_count": 75,
   "id": "c6ac8fed",
   "metadata": {},
   "outputs": [
    {
     "name": "stdout",
     "output_type": "stream",
     "text": [
      " The area of a circle with radius 10 is 9314 meters square.\n"
     ]
    }
   ],
   "source": [
    "# Task 35: string formatting for the area of circle\n",
    "radius = 10\n",
    "area = 3.142*radius**2\n",
    "print (f\" The area of a circle with radius {radius} is 9{int(area)} meters square.\")\n"
   ]
  },
  {
   "cell_type": "code",
   "execution_count": 88,
   "id": "256cabdf",
   "metadata": {},
   "outputs": [
    {
     "name": "stdout",
     "output_type": "stream",
     "text": [
      "8 + 6 = 14\n",
      "8 - 6 = 2\n",
      "8 * 6 = 48\n",
      "8 / 6) = 1.3333333333333333\n",
      "8 % 6 = 2\n",
      "8 // 6 = 1\n",
      "8 ** 6 = 262144\n"
     ]
    }
   ],
   "source": [
    "# Task 36: arithmetic using string performance\n",
    "a, b = 8, 6\n",
    "print (f\"{a} + {b} = {a + b}\")\n",
    "print (f\"{a} - {b} = {a-b}\")\n",
    "print (f\"{a} * {b} = {a * b}\")\n",
    "print (f\"{a} / {b}) = {a / b}\")\n",
    "print (f\"{a} % {b} = {a % b}\")\n",
    "print (f\"{a} // {b} = {a // b}\")\n",
    "print(f\"{a} ** {b} = {a**b}\")"
   ]
  }
 ],
 "metadata": {
  "kernelspec": {
   "display_name": "Python 3 (ipykernel)",
   "language": "python",
   "name": "python3"
  },
  "language_info": {
   "codemirror_mode": {
    "name": "ipython",
    "version": 3
   },
   "file_extension": ".py",
   "mimetype": "text/x-python",
   "name": "python",
   "nbconvert_exporter": "python",
   "pygments_lexer": "ipython3",
   "version": "3.9.12"
  }
 },
 "nbformat": 4,
 "nbformat_minor": 5
}
