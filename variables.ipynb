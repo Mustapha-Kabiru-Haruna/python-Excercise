{
 "cells": [
  {
   "cell_type": "code",
   "execution_count": 12,
   "id": "0fc4a924",
   "metadata": {},
   "outputs": [
    {
     "name": "stdout",
     "output_type": "stream",
     "text": [
      "Mustapha kabiru Haruna\n",
      "Nigeria\n",
      "Gombe\n",
      "32\n",
      "2024\n",
      "is married True\n",
      "True\n",
      "Mustapha Kabiru Haruna 32 Mathematical Sciences Msc Mathematics PG23/MSC/MATH/1006 True\n",
      "<class 'str'>\n",
      "<class 'str'>\n",
      "<class 'str'>\n",
      "<class 'str'>\n",
      "<class 'int'>\n",
      "<class 'int'>\n",
      "<class 'str'>\n",
      "<class 'bool'>\n",
      "<class 'bool'>\n",
      "lenght of first name: 8\n",
      "lenght of last name: 6\n",
      "lenght of other name: 6\n",
      "First name is longer\n",
      "total= 9\n",
      "difference is 1\n",
      "their product is 20\n",
      "their ratio is 1.25\n",
      "the modulos of 4 and 5 is 4\n",
      "5 raised to the power 4 is 625\n",
      "the floor division of 5 by 4 is 1\n",
      "Area of the circle is 2827.4333882308138 square meters\n",
      "circumference of the circle is 94.25999999999999 meters\n"
     ]
    }
   ],
   "source": [
    "#Excercises: level 1\n",
    "\n",
    "#lecture 2: python programming\n",
    "first_name = \"Mustapha\"\n",
    "last_name = \"kabiru\"\n",
    "other_name = \"Haruna\"\n",
    "full_name = first_name+\" \"+last_name+\" \"+other_name\n",
    "print(full_name)\n",
    "country = \"Nigeria\"\n",
    "city= \"Gombe\"\n",
    "print(country)\n",
    "print(city)\n",
    "Age = 32\n",
    "year = 2024\n",
    "is_married = \"is married\"\n",
    "is_true = True\n",
    "is_light_on = True\n",
    "print(Age)\n",
    "print(year)\n",
    "print(is_married, is_true)\n",
    "print(is_light_on)\n",
    "\n",
    "#multiplevariable declaration on a single line\n",
    "name, age, department = \"Mustapha Kabiru Haruna\", 32, \"Mathematical Sciences\"\n",
    "course, reg_no, is_a_student = \"Msc Mathematics\", \"PG23/MSC/MATH/1006\", True\n",
    "print(name, age, department, course, reg_no, is_a_student)\n",
    "\n",
    "#Excercises: level 2\n",
    "print (type(full_name))\n",
    "print(type(country))\n",
    "print(type(city))\n",
    "print(type(city))\n",
    "print(type(Age))\n",
    "print (type(year))\n",
    "print (type(is_married))\n",
    "print(type(is_true))\n",
    "print(type(is_light_on))\n",
    "first_name_lenght = len(first_name)\n",
    "last_name_lenght = len(last_name)\n",
    "other_name_lenght = len(other_name)\n",
    "print(\"lenght of first name:\", first_name_lenght)\n",
    "print(\"lenght of last name:\", last_name_lenght)\n",
    "print(\"lenght of other name:\", other_name_lenght)\n",
    "\n",
    "#compare names lenghts\n",
    "if first_name_lenght > last_name_lenght and first_name_lenght > other_name_lenght:\n",
    "    print(\"First name is longer\")\n",
    "elif first_name_lenght < last_name_lenght and other_name_lenght < last_name_lenght:\n",
    "    print (\"Last name is longer\")\n",
    "elif other_name_lenght > first_name_lenght and other_name_lenght > last_name_lenght: \n",
    "    print(\"Other name is longer\")\n",
    "#else:\n",
    "    print(\"First name and last name are of the same lenght\")\n",
    "num_one = 5\n",
    "num_two = 4\n",
    "_total= num_one + num_two \n",
    "print(\"total=\",_total)\n",
    "diff=num_one - num_two \n",
    "print(\"difference is\",diff)\n",
    "product=num_one * num_two\n",
    "print(\"their product is\",product)\n",
    "division =num_one / num_two\n",
    "print(\"their ratio is\", division)\n",
    "remainder = num_two  % num_one\n",
    "print(\"the modulos of\", num_two, \"and\", num_one, \"is\", remainder)\n",
    "exp = num_one**num_two\n",
    "print( num_one, \"raised to the power\", num_two, \"is\",exp)\n",
    "floor_division = num_one // num_two\n",
    "print(\"the floor division of\", num_one, \"by\", num_two, \"is\", floor_division)\n",
    "\n",
    "#the radius of a circle given\n",
    "radius = 30\n",
    "\n",
    "#calculate area\n",
    "pi= 3.142\n",
    "area_of_circle = math.pi* radius**2\n",
    "\n",
    "#calculate circumference\n",
    "circumference_of_circle= pi*radius\n",
    "#print results\n",
    "print(\"Area of the circle is\", area_of_circle, \"square meters\")\n",
    "print(\"circumference of the circle is\", circumference_of_circle, \"meters\")\n",
    "\n"
   ]
  },
  {
   "cell_type": "code",
   "execution_count": 1,
   "id": "1317f9fe",
   "metadata": {},
   "outputs": [
    {
     "data": {
      "text/plain": [
       "'C:\\\\Users\\\\user\\\\Lecture _2'"
      ]
     },
     "execution_count": 1,
     "metadata": {},
     "output_type": "execute_result"
    }
   ],
   "source": [
    "pwd"
   ]
  },
  {
   "cell_type": "code",
   "execution_count": null,
   "id": "c8875b17",
   "metadata": {},
   "outputs": [],
   "source": []
  }
 ],
 "metadata": {
  "kernelspec": {
   "display_name": "Python 3 (ipykernel)",
   "language": "python",
   "name": "python3"
  },
  "language_info": {
   "codemirror_mode": {
    "name": "ipython",
    "version": 3
   },
   "file_extension": ".py",
   "mimetype": "text/x-python",
   "name": "python",
   "nbconvert_exporter": "python",
   "pygments_lexer": "ipython3",
   "version": "3.9.12"
  }
 },
 "nbformat": 4,
 "nbformat_minor": 5
}
